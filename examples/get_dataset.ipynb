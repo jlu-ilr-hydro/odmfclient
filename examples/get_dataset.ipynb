{
 "cells": [
  {
   "cell_type": "markdown",
   "source": [
    "# Get values for a single dataset\n",
    "\n",
    "This notebook shows, how to retrieve data for a single dataset as a pandas dataframe"
   ],
   "metadata": {
    "collapsed": false,
    "pycharm": {
     "name": "#%% md\n"
    }
   }
  },
  {
   "cell_type": "code",
   "execution_count": 1,
   "outputs": [],
   "source": [
    "from  odmfclient import login, APIclient\n",
    "api = APIclient('http://127.0.0.1:8081/test').login('philipp', '37554').api"
   ],
   "metadata": {
    "collapsed": false,
    "pycharm": {
     "name": "#%%\n"
    }
   }
  },
  {
   "cell_type": "markdown",
   "source": [
    "Get the one dataset at site 1 with valuetype 30"
   ],
   "metadata": {
    "collapsed": false,
    "pycharm": {
     "name": "#%% md\n"
    }
   }
  },
  {
   "cell_type": "code",
   "execution_count": 2,
   "outputs": [
    {
     "data": {
      "text/plain": "6935"
     },
     "execution_count": 2,
     "metadata": {},
     "output_type": "execute_result"
    }
   ],
   "source": [
    "dsid, = api.dataset.list(site=1, valuetype=30)\n",
    "dsid"
   ],
   "metadata": {
    "collapsed": false,
    "pycharm": {
     "name": "#%%\n"
    }
   }
  },
  {
   "cell_type": "markdown",
   "source": [
    "Get the **metadata** of that dataset"
   ],
   "metadata": {
    "collapsed": false,
    "pycharm": {
     "name": "#%% md\n"
    }
   }
  },
  {
   "cell_type": "code",
   "execution_count": 3,
   "outputs": [
    {
     "data": {
      "text/plain": "{'access': 0,\n 'comment': '',\n 'end': '2022-07-04T00:00:00',\n 'filename': '',\n 'id': 6935,\n 'label': 'ds6935: water amount [l] (30) at #1  with Piezometer (infrastructure) (2022-01-01 12:00:00 - 2022-07-04 00:00:00)',\n 'level': None,\n 'measured_by': {'car_available': 1,\n  'comment': 'Schwerpunkt: Physikalische und biogeochemische Modellierung',\n  'email': 'philipp.kraft@umwelt.uni-giessen.de',\n  'firstname': 'Philipp',\n  'label': 'Philipp Kraft',\n  'mobile': '0178 1976098',\n  'supervisor': 'Lutz Breuer',\n  'surname': 'Kraft',\n  'telephone': '0641 99 37554',\n  'username': 'philipp'},\n 'name': 'Test-Dataset',\n 'quality': {'comment': 'Raw, unprocessed data', 'id': 0, 'name': 'raw'},\n 'site': {'comment': 'Piezometer on meadow between Vollnkirchner Bach and Schwingbach\\r\\n\\r\\nInventar: wiki:site/001',\n  'height': 234.189,\n  'icon': 'piezometer.png',\n  'id': 1,\n  'lat': 50.5010232717,\n  'lon': 8.55117078363,\n  'name': 'SGW04'},\n 'start': '2022-01-01T12:00:00',\n 'valuetype': {'comment': '', 'id': 30, 'name': 'water amount', 'unit': 'l'}}"
     },
     "execution_count": 3,
     "metadata": {},
     "output_type": "execute_result"
    }
   ],
   "source": [
    "api.dataset(dsid=dsid)"
   ],
   "metadata": {
    "collapsed": false,
    "pycharm": {
     "name": "#%%\n"
    }
   }
  },
  {
   "cell_type": "markdown",
   "source": [
    "Load the values from that dataset as a dataframe"
   ],
   "metadata": {
    "collapsed": false,
    "pycharm": {
     "name": "#%% md\n"
    }
   }
  },
  {
   "cell_type": "code",
   "execution_count": 4,
   "outputs": [
    {
     "data": {
      "text/plain": "                    time  value\n0    2022-01-01 12:00:00  -4.99\n1    2022-01-01 12:00:00  -4.99\n2    2022-01-01 12:00:00  -4.99\n3    2022-01-01 12:00:00  -4.99\n4    2022-01-01 12:00:00  -4.99\n...                  ...    ...\n4995 2022-02-12 03:00:00   5.00\n4996 2022-02-12 03:00:00   5.00\n4997 2022-02-12 03:00:00   5.00\n4998 2022-02-12 03:00:00   5.00\n4999 2022-02-12 03:00:00   5.00\n\n[5000 rows x 2 columns]",
      "text/html": "<div>\n<style scoped>\n    .dataframe tbody tr th:only-of-type {\n        vertical-align: middle;\n    }\n\n    .dataframe tbody tr th {\n        vertical-align: top;\n    }\n\n    .dataframe thead th {\n        text-align: right;\n    }\n</style>\n<table border=\"1\" class=\"dataframe\">\n  <thead>\n    <tr style=\"text-align: right;\">\n      <th></th>\n      <th>time</th>\n      <th>value</th>\n    </tr>\n  </thead>\n  <tbody>\n    <tr>\n      <th>0</th>\n      <td>2022-01-01 12:00:00</td>\n      <td>-4.99</td>\n    </tr>\n    <tr>\n      <th>1</th>\n      <td>2022-01-01 12:00:00</td>\n      <td>-4.99</td>\n    </tr>\n    <tr>\n      <th>2</th>\n      <td>2022-01-01 12:00:00</td>\n      <td>-4.99</td>\n    </tr>\n    <tr>\n      <th>3</th>\n      <td>2022-01-01 12:00:00</td>\n      <td>-4.99</td>\n    </tr>\n    <tr>\n      <th>4</th>\n      <td>2022-01-01 12:00:00</td>\n      <td>-4.99</td>\n    </tr>\n    <tr>\n      <th>...</th>\n      <td>...</td>\n      <td>...</td>\n    </tr>\n    <tr>\n      <th>4995</th>\n      <td>2022-02-12 03:00:00</td>\n      <td>5.00</td>\n    </tr>\n    <tr>\n      <th>4996</th>\n      <td>2022-02-12 03:00:00</td>\n      <td>5.00</td>\n    </tr>\n    <tr>\n      <th>4997</th>\n      <td>2022-02-12 03:00:00</td>\n      <td>5.00</td>\n    </tr>\n    <tr>\n      <th>4998</th>\n      <td>2022-02-12 03:00:00</td>\n      <td>5.00</td>\n    </tr>\n    <tr>\n      <th>4999</th>\n      <td>2022-02-12 03:00:00</td>\n      <td>5.00</td>\n    </tr>\n  </tbody>\n</table>\n<p>5000 rows × 2 columns</p>\n</div>"
     },
     "execution_count": 4,
     "metadata": {},
     "output_type": "execute_result"
    }
   ],
   "source": [
    "df = api.dataset.values_parquet(dsid=dsid)\n",
    "df"
   ],
   "metadata": {
    "collapsed": false,
    "pycharm": {
     "name": "#%%\n"
    }
   }
  },
  {
   "cell_type": "code",
   "execution_count": 5,
   "outputs": [
    {
     "name": "stdout",
     "output_type": "stream",
     "text": [
      "Help on APIMethod in module odmfclient.apiclient object:\n",
      "\n",
      "class APIMethod(builtins.object)\n",
      " |  APIMethod(client, doc: str, http_methods: List[str], parameters: dict, children: Dict[str, dict], url: str, **kwargs)\n",
      " |  \n",
      " |  Methods defined here:\n",
      " |  \n",
      " |  __call__(self, data=None, **kwargs)\n",
      " |      Call self as a function.\n",
      " |  \n",
      " |  __dir__(self) -> Iterable[str]\n",
      " |      Default dir() implementation.\n",
      " |  \n",
      " |  __getattr__(self, item)\n",
      " |  \n",
      " |  __init__(self, client, doc: str, http_methods: List[str], parameters: dict, children: Dict[str, dict], url: str, **kwargs)\n",
      " |      Initialize self.  See help(type(self)) for accurate signature.\n",
      " |  \n",
      " |  __str__(self)\n",
      " |      Return str(self).\n",
      " |  \n",
      " |  handle_error(self, r)\n",
      " |  \n",
      " |  translate_response(self, r)\n",
      " |      Translates the API response to appropriate Python objects\n",
      " |      parquet -> Dataframe\n",
      " |      JSON -> dictionary / list\n",
      " |      unknown -> str\n",
      " |  \n",
      " |  ----------------------------------------------------------------------\n",
      " |  Data descriptors defined here:\n",
      " |  \n",
      " |  __dict__\n",
      " |      dictionary for instance variables (if defined)\n",
      " |  \n",
      " |  __weakref__\n",
      " |      list of weak references to the object (if defined)\n",
      "\n"
     ]
    }
   ],
   "source": [
    "help(api.dataset.list)"
   ],
   "metadata": {
    "collapsed": false,
    "pycharm": {
     "name": "#%%\n"
    }
   }
  },
  {
   "cell_type": "code",
   "execution_count": 7,
   "outputs": [
    {
     "data": {
      "text/plain": "{'comment': 'Piezometer on meadow between Vollnkirchner Bach and Schwingbach\\r\\n\\r\\nInventar: wiki:site/001',\n 'height': 234.189,\n 'icon': 'piezometer.png',\n 'id': 1,\n 'lat': 50.5010232717,\n 'lon': 8.55117078363,\n 'name': 'SGW04'}"
     },
     "execution_count": 7,
     "metadata": {},
     "output_type": "execute_result"
    }
   ],
   "source": [
    "api.site.add_parwquet(df)"
   ],
   "metadata": {
    "collapsed": false,
    "pycharm": {
     "name": "#%%\n"
    }
   }
  },
  {
   "cell_type": "code",
   "execution_count": null,
   "outputs": [],
   "source": [],
   "metadata": {
    "collapsed": false,
    "pycharm": {
     "name": "#%%\n"
    }
   }
  }
 ],
 "metadata": {
  "kernelspec": {
   "display_name": "Python 3",
   "language": "python",
   "name": "python3"
  },
  "language_info": {
   "codemirror_mode": {
    "name": "ipython",
    "version": 2
   },
   "file_extension": ".py",
   "mimetype": "text/x-python",
   "name": "python",
   "nbconvert_exporter": "python",
   "pygments_lexer": "ipython2",
   "version": "2.7.6"
  }
 },
 "nbformat": 4,
 "nbformat_minor": 0
}