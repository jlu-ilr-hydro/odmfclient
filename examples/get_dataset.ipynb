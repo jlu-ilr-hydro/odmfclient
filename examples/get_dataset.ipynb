{
 "cells": [
  {
   "cell_type": "markdown",
   "source": [
    "# Get values for a single dataset\n",
    "\n",
    "This notebook shows, how to retrieve data for a single dataset as a pandas dataframe"
   ],
   "metadata": {
    "collapsed": false,
    "pycharm": {
     "name": "#%% md\n"
    }
   }
  },
  {
   "cell_type": "code",
   "execution_count": 1,
   "outputs": [
    {
     "name": "stdout",
     "output_type": "stream",
     "text": [
      "Help on APIMethod in module odmfclient.apiclient:\n",
      "\n",
      "<odmfclient.apiclient.APIMethod object>\n",
      "    A RESTful API for machine to machine communication using json\n",
      "\n"
     ]
    }
   ],
   "source": [
    "from  odmfclient import login, APIclient\n",
    "api = APIclient('https://data.fb09.uni-giessen.de/gbh/').login('odmf.admin', 'Ez8F7UhB65IHqcye0nph').api\n",
    "help(api)"
   ],
   "metadata": {
    "collapsed": false,
    "pycharm": {
     "name": "#%%\n"
    }
   }
  },
  {
   "cell_type": "markdown",
   "source": [
    "Get the one dataset at site 1 with valuetype 30"
   ],
   "metadata": {
    "collapsed": false,
    "pycharm": {
     "name": "#%% md\n"
    }
   }
  },
  {
   "cell_type": "code",
   "execution_count": 2,
   "outputs": [
    {
     "name": "stdout",
     "output_type": "stream",
     "text": [
      "Help on APIMethod in module odmfclient.apiclient:\n",
      "\n",
      "<odmfclient.apiclient.APIMethod object>\n",
      "    Provides an REST API to datasets\n",
      "    \n",
      "    Usages:\n",
      "    \n",
      "    :/api/dataset: Returns a list of existing dataset ids\n",
      "    :/api/dataset/1: Returns the dataset metadata as json of ds1\n",
      "    :/api/dataset/new: Creates a new dataset using POST or PUT data.\n",
      "    :/api/dataset/addrecord: Adds a record to a dataset using PUT data\n",
      "                             in the form ``{dsid: 1, value:2.0, time:2019-05-03T12:02}``\n",
      "\n"
     ]
    }
   ],
   "source": [
    "help(api.dataset)"
   ],
   "metadata": {
    "collapsed": false,
    "pycharm": {
     "name": "#%%\n"
    }
   }
  },
  {
   "cell_type": "code",
   "execution_count": 3,
   "outputs": [
    {
     "data": {
      "text/plain": "[22, 17, 18, 12, 13, 1, 2, 3]"
     },
     "execution_count": 3,
     "metadata": {},
     "output_type": "execute_result"
    }
   ],
   "source": [
    "dsid=1\n",
    "api.dataset.list(site=1, valuetype=1)"
   ],
   "metadata": {
    "collapsed": false,
    "pycharm": {
     "name": "#%%\n"
    }
   }
  },
  {
   "cell_type": "markdown",
   "source": [
    "Get the **metadata** of that dataset"
   ],
   "metadata": {
    "collapsed": false,
    "pycharm": {
     "name": "#%% md\n"
    }
   }
  },
  {
   "cell_type": "code",
   "execution_count": 3,
   "outputs": [
    {
     "data": {
      "text/plain": "{'access': 1,\n 'comment': None,\n 'end': '2022-09-09T09:10:00',\n 'filename': 'Agroforst-GH1/ADCON-Data/ADCON-Transects',\n 'id': 844,\n 'label': 'ds0844: Soil moisture RAW [-] (17) at #1234 -0.6 m offset with TEROS 11 (sensor) (2021-04-01 00:00:00 - 2022-09-09 09:10:00)',\n 'level': -0.6,\n 'measured_by': {'car_available': 0,\n  'comment': 'PostDoc in the HMUKLV Agroforstproject 2021',\n  'email': 'Karolina.Golicz@umwelt.uni-giessen.de',\n  'firstname': 'Karolina',\n  'label': 'Karolina Golicz',\n  'mobile': None,\n  'supervisor': 'None',\n  'surname': 'Golicz',\n  'telephone': None,\n  'username': 'karolina.golicz'},\n 'name': 'Soil moisture-AF-GH1-T3+6-0.6-6',\n 'quality': {'comment': 'Raw, unprocessed data', 'id': 0, 'name': 'raw'},\n 'site': {'comment': '# Soil moisture sensors\\n\\nTEROS 11/12 Sensors (METER group) on Transect T3 connected to RTU at #738\\n\\nOffset: +6 to  #738',\n  'height': None,\n  'icon': 'soilmoisture.png',\n  'id': 1234,\n  'lat': 50.39791106833729,\n  'lon': 8.25299019641635,\n  'name': 'AF-GH1-T3+6'},\n 'start': '2021-04-01T00:00:00',\n 'valuetype': {'comment': 'Raw value from Soil moisture sensors, needs a transformation equation to express the value in m³/m³.',\n  'id': 17,\n  'name': 'Soil moisture RAW',\n  'unit': '-'}}"
     },
     "execution_count": 3,
     "metadata": {},
     "output_type": "execute_result"
    }
   ],
   "source": [
    "api.dataset(dsid=844)"
   ],
   "metadata": {
    "collapsed": false,
    "pycharm": {
     "name": "#%%\n"
    }
   }
  },
  {
   "cell_type": "markdown",
   "source": [
    "Load the values from that dataset as a dataframe"
   ],
   "metadata": {
    "collapsed": false,
    "pycharm": {
     "name": "#%% md\n"
    }
   }
  },
  {
   "cell_type": "code",
   "execution_count": 11,
   "outputs": [
    {
     "data": {
      "text/plain": "<AxesSubplot:xlabel='time'>"
     },
     "execution_count": 11,
     "metadata": {},
     "output_type": "execute_result"
    },
    {
     "data": {
      "text/plain": "<Figure size 640x480 with 1 Axes>",
      "image/png": "[encoded data removed]"
     },
     "metadata": {},
     "output_type": "display_data"
    }
   ],
   "source": [
    "df = api.dataset.values_parquet(dsid=844)\n",
    "df.index = df['time']\n",
    "del df['time']\n",
    "df.plot()"
   ],
   "metadata": {
    "collapsed": false,
    "pycharm": {
     "name": "#%%\n"
    }
   }
  },
  {
   "cell_type": "code",
   "execution_count": 13,
   "outputs": [
    {
     "data": {
      "text/plain": "value    0.0\ndtype: float64"
     },
     "execution_count": 13,
     "metadata": {},
     "output_type": "execute_result"
    }
   ],
   "source": [
    "df.max()"
   ],
   "metadata": {
    "collapsed": false,
    "pycharm": {
     "name": "#%%\n"
    }
   }
  },
  {
   "cell_type": "code",
   "execution_count": 14,
   "outputs": [],
   "source": [
    "api.client.session.close()"
   ],
   "metadata": {
    "collapsed": false,
    "pycharm": {
     "name": "#%%\n"
    }
   }
  },
  {
   "cell_type": "code",
   "execution_count": null,
   "outputs": [],
   "source": [],
   "metadata": {
    "collapsed": false,
    "pycharm": {
     "name": "#%%\n"
    }
   }
  }
 ],
 "metadata": {
  "kernelspec": {
   "display_name": "Python 3",
   "language": "python",
   "name": "python3"
  },
  "language_info": {
   "codemirror_mode": {
    "name": "ipython",
    "version": 2
   },
   "file_extension": ".py",
   "mimetype": "text/x-python",
   "name": "python",
   "nbconvert_exporter": "python",
   "pygments_lexer": "ipython2",
   "version": "2.7.6"
  }
 },
 "nbformat": 4,
 "nbformat_minor": 0
}